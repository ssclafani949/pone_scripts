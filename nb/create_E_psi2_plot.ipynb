{
 "cells": [
  {
   "cell_type": "code",
   "execution_count": 295,
   "id": "6f99012b",
   "metadata": {},
   "outputs": [],
   "source": [
    "import numpy as np\n",
    "import histlite as hl\n",
    "import tables\n",
    "import matplotlib.pyplot as plt"
   ]
  },
  {
   "cell_type": "code",
   "execution_count": 296,
   "id": "0b3defd1",
   "metadata": {},
   "outputs": [],
   "source": [
    "dpsi, energy = np.load('/home/ssclafani/pone/data/dpsi_vs_energy_Nugen.npy')"
   ]
  },
  {
   "cell_type": "code",
   "execution_count": 297,
   "id": "5950b693",
   "metadata": {},
   "outputs": [],
   "source": [
    "f = tables.open_file('/home/ssclafani/pone/data/Nugen_70_Reco.hdf5')"
   ]
  },
  {
   "cell_type": "code",
   "execution_count": 298,
   "id": "3d91508f",
   "metadata": {},
   "outputs": [],
   "source": [
    "nfiles = 1000\n",
    "nevents = 100"
   ]
  },
  {
   "cell_type": "code",
   "execution_count": 299,
   "id": "c5a72e9b",
   "metadata": {},
   "outputs": [],
   "source": [
    "event = f.root.I3EventHeader.cols.Event[:]\n",
    "true_zenith = f.root.NuGPrimary.cols.zenith[:]\n",
    "true_azimuth = f.root.NuGPrimary.cols.azimuth[:]\n",
    "true_energy = f.root.NuGPrimary.cols.energy[:]\n",
    "oneweight = f.root.I3MCWeightDict.cols.OneWeight[:]\n",
    "ow = oneweight / (nfiles * nevents)\n",
    "w_astro = 1e-18 *ow *(true_energy/1e5)**-2\n",
    "#w_astro = 1e-18 *ow *(true_energy/1e5)**-2\n",
    "w_atmo = 1e-18 *ow *(true_energy/1e5)**-3.7"
   ]
  },
  {
   "cell_type": "code",
   "execution_count": 300,
   "id": "a11a6e4f",
   "metadata": {},
   "outputs": [],
   "source": [
    "#dpsi = np.deg2rad(.05) + (dpsi*1.05)"
   ]
  },
  {
   "cell_type": "code",
   "execution_count": 301,
   "id": "fe9e6480",
   "metadata": {},
   "outputs": [],
   "source": [
    "w_astro = w_astro[dpsi > 0]\n",
    "energy = energy[dpsi > 0]\n",
    "dpsi = dpsi[dpsi > 0]"
   ]
  },
  {
   "cell_type": "code",
   "execution_count": 302,
   "id": "7d9a13b6",
   "metadata": {},
   "outputs": [],
   "source": [
    "delta_psi = 2"
   ]
  },
  {
   "cell_type": "code",
   "execution_count": 303,
   "id": "993b9ad1",
   "metadata": {},
   "outputs": [],
   "source": [
    "dpsi_bins = np.linspace(0, delta_psi**2, delta_psi**2 * 25 + 1)"
   ]
  },
  {
   "cell_type": "code",
   "execution_count": 304,
   "id": "08eb0a90",
   "metadata": {},
   "outputs": [
    {
     "data": {
      "image/png": "[encoded data removed]",
      "text/plain": [
       "<Figure size 640x480 with 1 Axes>"
      ]
     },
     "metadata": {},
     "output_type": "display_data"
    }
   ],
   "source": [
    "plt.hist(np.degrees(dpsi), weights=w_astro, \n",
    "         bins=100, range=(0,3));\n",
    "\n",
    "#plt.xlim(0,60)"
   ]
  },
  {
   "cell_type": "code",
   "execution_count": 305,
   "id": "44e74fc6",
   "metadata": {},
   "outputs": [
    {
     "data": {
      "text/plain": [
       "101"
      ]
     },
     "execution_count": 305,
     "metadata": {},
     "output_type": "execute_result"
    }
   ],
   "source": [
    "len(dpsi_bins)"
   ]
  },
  {
   "cell_type": "code",
   "execution_count": 306,
   "id": "f17e1fe0",
   "metadata": {},
   "outputs": [],
   "source": [
    "logE_reco_bins = np.arange(2, 7.02, step=0.2)"
   ]
  },
  {
   "cell_type": "code",
   "execution_count": 307,
   "id": "e7c51bec",
   "metadata": {},
   "outputs": [
    {
     "data": {
      "text/plain": [
       "26"
      ]
     },
     "execution_count": 307,
     "metadata": {},
     "output_type": "execute_result"
    }
   ],
   "source": [
    "len(logE_reco_bins)"
   ]
  },
  {
   "cell_type": "code",
   "execution_count": 308,
   "id": "eebd7464",
   "metadata": {},
   "outputs": [],
   "source": [
    "h = hl.hist(( np.log10(energy), \n",
    "             np.degrees(dpsi)**2), weights=w_astro,\n",
    "            bins=[logE_reco_bins, dpsi_bins])\n",
    "h = h.normalize(1, integrate=False)"
   ]
  },
  {
   "cell_type": "code",
   "execution_count": 309,
   "id": "a8be0789",
   "metadata": {},
   "outputs": [
    {
     "data": {
      "text/plain": [
       "{'colormesh': <matplotlib.collections.QuadMesh at 0x7fb7b53d07c0>,\n",
       " 'colorbar': <matplotlib.colorbar.Colorbar at 0x7fb7b4cb8670>}"
      ]
     },
     "execution_count": 309,
     "metadata": {},
     "output_type": "execute_result"
    },
    {
     "data": {
      "image/png": "[encoded data removed]",
      "text/plain": [
       "<Figure size 640x480 with 2 Axes>"
      ]
     },
     "metadata": {},
     "output_type": "display_data"
    }
   ],
   "source": [
    "fig, ax = plt.subplots()\n",
    "hl.plot2d(ax, h, log=False, cbar=True)\n",
    "#ax.set_xlabel('logE_true')\n",
    "#ax.set_ylabel('dPsi^2')"
   ]
  },
  {
   "cell_type": "code",
   "execution_count": 310,
   "id": "7314d798",
   "metadata": {},
   "outputs": [],
   "source": [
    "np.save('../data/dpsi2_vs_logenergy.npy', h)"
   ]
  },
  {
   "cell_type": "code",
   "execution_count": null,
   "id": "edcc44fc",
   "metadata": {},
   "outputs": [],
   "source": []
  },
  {
   "cell_type": "code",
   "execution_count": null,
   "id": "ae2048d4",
   "metadata": {},
   "outputs": [],
   "source": []
  },
  {
   "cell_type": "code",
   "execution_count": null,
   "id": "b389ef35",
   "metadata": {},
   "outputs": [],
   "source": []
  }
 ],
 "metadata": {
  "kernelspec": {
   "display_name": "Python 3 (ipykernel)",
   "language": "python",
   "name": "python3"
  },
  "language_info": {
   "codemirror_mode": {
    "name": "ipython",
    "version": 3
   },
   "file_extension": ".py",
   "mimetype": "text/x-python",
   "name": "python",
   "nbconvert_exporter": "python",
   "pygments_lexer": "ipython3",
   "version": "3.10.6"
  }
 },
 "nbformat": 4,
 "nbformat_minor": 5
}

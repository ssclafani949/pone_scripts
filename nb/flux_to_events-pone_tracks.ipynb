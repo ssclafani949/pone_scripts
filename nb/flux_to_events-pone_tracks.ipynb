{
 "cells": [
  {
   "cell_type": "markdown",
   "metadata": {},
   "source": [
    "Files needed for this demo:\n",
    "* tabulated_logE_sindec_aeff_full.pckl\n",
    "* bckg_flux_vals.pickle\n",
    "* energy_smearing_kde.pckl\n",
    "* e_psi_grid.pickle"
   ]
  },
  {
   "cell_type": "markdown",
   "metadata": {},
   "source": [
    "# Imports"
   ]
  },
  {
   "cell_type": "code",
   "execution_count": 1,
   "metadata": {},
   "outputs": [],
   "source": [
    "import pickle\n",
    "import numpy as np\n",
    "import warnings\n",
    "from copy import deepcopy\n",
    "from matplotlib import pyplot as plt\n",
    "from scipy.optimize import fmin_l_bfgs_b\n",
    "from scipy.special import erfinv\n",
    "from scipy.stats import chi2\n",
    "from scipy.interpolate import RegularGridInterpolator\n",
    "warnings.filterwarnings(\"ignore\")\n"
   ]
  },
  {
   "cell_type": "code",
   "execution_count": 2,
   "metadata": {},
   "outputs": [
    {
     "data": {
      "text/plain": [
       "<Figure size 640x480 with 0 Axes>"
      ]
     },
     "metadata": {},
     "output_type": "display_data"
    }
   ],
   "source": [
    "from matplotlib.colors import LogNorm\n",
    "plt.set_cmap(\"cividis\")"
   ]
  },
  {
   "cell_type": "markdown",
   "metadata": {},
   "source": [
    "# Source parameters"
   ]
  },
  {
   "cell_type": "code",
   "execution_count": 3,
   "metadata": {},
   "outputs": [],
   "source": [
    "# livetime of 10yrs in seconds\n",
    "'''LIVETIME = 365 * 10 * 24 * 3600\n",
    "# 10yr PS PAPER PARAMETERS\n",
    "GAMMA_NGC = 3.2\n",
    "PHI_NGC = 5E-14 * 2 # numu + numubar -> nue+nuebar + nutau+nutaubar\n",
    "E0_NGC = 1E3\n",
    "delta_psi = 4'''\n",
    "\n",
    "\n",
    "LIVETIME = 365 * 10 * 86400\n",
    "# Normalization energy of power law (E/E0)^gamma\n",
    "E0 = 1e3\n",
    "# Source flux spectral index\n",
    "GAMMA = 2.0\n",
    "PHI_0 = 5e-14 # neutrinos * (E/E0)^gamma / GeV / cm^2 / s\n",
    "# source declination\n",
    "SRC_DEC = np.radians(0) # radian => source at horizon\n",
    "\n",
    "# analysis region in distance to source\n",
    "delta_psi = 2"
   ]
  },
  {
   "cell_type": "markdown",
   "metadata": {},
   "source": [
    "# Functions"
   ]
  },
  {
   "cell_type": "code",
   "execution_count": 4,
   "metadata": {},
   "outputs": [],
   "source": [
    "def get_mids(bins, ext=False):\n",
    "    \"\"\" Calculate the bin mids from an array of bins \"\"\"\n",
    "    res = (bins[1:] + bins[:-1]) * 0.5\n",
    "    if ext==False:\n",
    "        return res\n",
    "    else:\n",
    "        res[0], res[-1] = bins[0], bins[-1]\n",
    "        return res"
   ]
  },
  {
   "cell_type": "code",
   "execution_count": 5,
   "metadata": {},
   "outputs": [],
   "source": [
    "def energy_smearing(ematrix, ev):\n",
    "    \"\"\"Translate a matrix with axis in true energy to reconstructed energy\"\"\"\n",
    "    return (ematrix @ ev.T).T"
   ]
  },
  {
   "cell_type": "code",
   "execution_count": 6,
   "metadata": {},
   "outputs": [],
   "source": [
    "def atmo_background(aeff_factor, bckg_flux_vals):\n",
    "    \"\"\"Calculate the number of neutrinos of atmospheric background flux as a function reconstructed energy\"\"\"\n",
    "    return energy_smearing(normed_kvals, aeff_factor * bckg_flux_vals)\n"
   ]
  },
  {
   "cell_type": "code",
   "execution_count": 7,
   "metadata": {},
   "outputs": [],
   "source": [
    "def array_source_interp(dec, array):\n",
    "    \"\"\"Take a 2D array and interpolate its values\n",
    "    based on a value (dec) on the second axis\"\"\"\n",
    "    low_ind = np.digitize(np.sin(dec), coszen_bins) - 1\n",
    "\n",
    "    if low_ind >= (len(coszen_mids)-1):\n",
    "        array_interp = array[:, -1]\n",
    "    elif low_ind == 0:\n",
    "        array_interp = array[:, low_ind]\n",
    "    else:\n",
    "        if coszen_mids[low_ind] > np.sin(dec):\n",
    "            low_ind -= 1\n",
    "        array_interp = np.zeros(len(array))\n",
    "        for i in range(len(array)):\n",
    "            array_interp[i] = np.interp(\n",
    "                np.sin(dec),\n",
    "                [coszen_mids[low_ind], coszen_mids[low_ind + 1]],\n",
    "                [array[i, low_ind], array[i, low_ind + 1]],\n",
    "            )\n",
    "    return array_interp\n"
   ]
  },
  {
   "cell_type": "markdown",
   "metadata": {},
   "source": [
    "# Get the effective area"
   ]
  },
  {
   "cell_type": "code",
   "execution_count": 8,
   "metadata": {},
   "outputs": [
    {
     "ename": "FileNotFoundError",
     "evalue": "[Errno 2] No such file or directory: '/home/steve/pone/data/PONE_nu_effa_70_string.npy'",
     "output_type": "error",
     "traceback": [
      "\u001b[0;31m---------------------------------------------------------------------------\u001b[0m",
      "\u001b[0;31mFileNotFoundError\u001b[0m                         Traceback (most recent call last)",
      "Input \u001b[0;32mIn [8]\u001b[0m, in \u001b[0;36m<cell line: 1>\u001b[0;34m()\u001b[0m\n\u001b[0;32m----> 1\u001b[0m h2d \u001b[38;5;241m=\u001b[39m \u001b[43mnp\u001b[49m\u001b[38;5;241;43m.\u001b[39;49m\u001b[43mload\u001b[49m\u001b[43m(\u001b[49m\u001b[38;5;124;43m'\u001b[39;49m\u001b[38;5;124;43m/home/steve/pone/data/PONE_nu_effa_70_string.npy\u001b[39;49m\u001b[38;5;124;43m'\u001b[39;49m\u001b[43m,\u001b[49m\u001b[43m \u001b[49m\u001b[43mallow_pickle\u001b[49m\u001b[38;5;241;43m=\u001b[39;49m\u001b[38;5;28;43;01mTrue\u001b[39;49;00m\u001b[43m)\u001b[49m[()]\n\u001b[1;32m      2\u001b[0m \u001b[38;5;66;03m#h2d = np.load('/home/steve/pone/data/DNNCascade_EFFA_binned_plenum.hist.npy', allow_pickle=True)[()]\u001b[39;00m\n\u001b[1;32m      3\u001b[0m h2d\n",
      "File \u001b[0;32m~/.local/lib/python3.10/site-packages/numpy/lib/npyio.py:390\u001b[0m, in \u001b[0;36mload\u001b[0;34m(file, mmap_mode, allow_pickle, fix_imports, encoding)\u001b[0m\n\u001b[1;32m    388\u001b[0m     own_fid \u001b[38;5;241m=\u001b[39m \u001b[38;5;28;01mFalse\u001b[39;00m\n\u001b[1;32m    389\u001b[0m \u001b[38;5;28;01melse\u001b[39;00m:\n\u001b[0;32m--> 390\u001b[0m     fid \u001b[38;5;241m=\u001b[39m stack\u001b[38;5;241m.\u001b[39menter_context(\u001b[38;5;28;43mopen\u001b[39;49m\u001b[43m(\u001b[49m\u001b[43mos_fspath\u001b[49m\u001b[43m(\u001b[49m\u001b[43mfile\u001b[49m\u001b[43m)\u001b[49m\u001b[43m,\u001b[49m\u001b[43m \u001b[49m\u001b[38;5;124;43m\"\u001b[39;49m\u001b[38;5;124;43mrb\u001b[39;49m\u001b[38;5;124;43m\"\u001b[39;49m\u001b[43m)\u001b[49m)\n\u001b[1;32m    391\u001b[0m     own_fid \u001b[38;5;241m=\u001b[39m \u001b[38;5;28;01mTrue\u001b[39;00m\n\u001b[1;32m    393\u001b[0m \u001b[38;5;66;03m# Code to distinguish from NumPy binary files and pickles.\u001b[39;00m\n",
      "\u001b[0;31mFileNotFoundError\u001b[0m: [Errno 2] No such file or directory: '/home/steve/pone/data/PONE_nu_effa_70_string.npy'"
     ]
    }
   ],
   "source": [
    "h2d = np.load('/home/steve/pone/data/PONE_nu_effa_70_string.npy', allow_pickle=True)[()]\n",
    "#h2d = np.load('/home/steve/pone/data/DNNCascade_EFFA_binned_plenum.hist.npy', allow_pickle=True)[()]\n",
    "h2d"
   ]
  },
  {
   "cell_type": "code",
   "execution_count": null,
   "metadata": {},
   "outputs": [],
   "source": [
    "logE_bins = h2d.bins[0]\n",
    "coszen_bins = h2d.bins[1]\n",
    "aeff_2d = 1e4*h2d.values #values are in m^2 not cm^2 ?? is this necessary?"
   ]
  },
  {
   "cell_type": "code",
   "execution_count": null,
   "metadata": {},
   "outputs": [],
   "source": [
    "# use only upgoing data to mimick up-going muon track data set\n",
    "#with open(\"../resources/tabulated_logE_sindec_aeff_full.pckl\", \"rb\") as f:\n",
    "#    logE_bins, sindec_bins, aeff_2d = pickle.load(f)\n",
    "#h2d = np.load('/home/steve/pone/data/PONE_nu_effa_70_string.npy')\n",
    "#logE_bins = h2d.bins\n",
    "\n",
    "logE_mids = get_mids(logE_bins)\n",
    "# cut at E=10⁹GeV\n",
    "logE_bins = logE_bins\n",
    "aeff_2d = aeff_2d\n",
    "logE_mids = logE_mids\n",
    "\n",
    "\n",
    "ebins = np.power(10, logE_bins)\n",
    "emids = get_mids(ebins)\n",
    "ewidth = np.diff(ebins)\n",
    "\n",
    "coszen_mids = get_mids(coszen_bins)\n",
    "coszen_width = np.diff(coszen_bins)\n",
    "\n",
    "print(len(emids), \"log_10(energy) bins\")\n",
    "print(len(coszen_mids), \"declination bins\")\n"
   ]
  },
  {
   "cell_type": "code",
   "execution_count": null,
   "metadata": {},
   "outputs": [],
   "source": [
    "plt.pcolormesh(logE_bins, coszen_bins, aeff_2d.T, norm=LogNorm())\n",
    "cb = plt.colorbar()\n",
    "cb.set_label(\"effective area / cm²\")\n",
    "plt.ylabel(\"cos(zen)\")\n",
    "plt.xlabel(\"log10(E_nu / GeV)\")\n",
    "plt.xlim(2, 7)"
   ]
  },
  {
   "cell_type": "markdown",
   "metadata": {},
   "source": [
    "# Background"
   ]
  },
  {
   "cell_type": "code",
   "execution_count": null,
   "metadata": {},
   "outputs": [],
   "source": [
    "# MCEQ\n",
    "with open(\"/home/steve/pone/Plenum/resources/MCEq_flux.pckl\", \"rb\") as f:\n",
    "    (e_grid, zen), flux_def = pickle.load(f)\n",
    "# re-bin the atmospheric background flux\n",
    "rgi = RegularGridInterpolator(\n",
    "    (e_grid, -np.cos(np.deg2rad(zen))), np.log(flux_def[\"numu_conv\"])\n",
    ")\n",
    "# baseline evaluation\n",
    "ss, em = np.meshgrid(coszen_mids, emids)\n",
    "bckg_flux_vals = np.exp(rgi((em, ss))).T"
   ]
  },
  {
   "cell_type": "code",
   "execution_count": null,
   "metadata": {},
   "outputs": [],
   "source": [
    "plt.pcolormesh(logE_bins, coszen_bins, bckg_flux_vals, norm=LogNorm())\n",
    "cb = plt.colorbar()\n",
    "cb.set_label(\"atm. muon-neutrino flux / GeV / cm² / s / sr\")\n",
    "plt.ylabel(\"cos(zenith)\")\n",
    "plt.xlabel(\"log10(E_nu / GeV)\")\n",
    "plt.xlim(2, 7)"
   ]
  },
  {
   "cell_type": "markdown",
   "metadata": {},
   "source": [
    "# Energy smearing"
   ]
  },
  {
   "cell_type": "code",
   "execution_count": null,
   "metadata": {},
   "outputs": [],
   "source": [
    "#Using based energy smearing paramaterization??"
   ]
  },
  {
   "cell_type": "code",
   "execution_count": null,
   "metadata": {},
   "outputs": [],
   "source": [
    "# energy smearing matrix\n",
    "with open(\"/home/steve/pone/Plenum/resources/energy_smearing_rgi.pckl\", \"rb\") as f:\n",
    "    rgi = pickle.load(f)\n",
    "# new binning\n",
    "logE_reco_bins = np.arange(1.9, 7.02, step=0.05)\n",
    "logE_reco_mids = get_mids(logE_reco_bins)\n",
    "lge_grid, lre_grid = np.meshgrid(logE_mids, logE_reco_mids)\n",
    "# baseline evaluation\n",
    "normed_kvals = rgi((lre_grid, lge_grid))\n",
    "\n",
    "# normalize per bin in true energy\n",
    "normed_kvals = normed_kvals / np.sum(normed_kvals, axis=0)"
   ]
  },
  {
   "cell_type": "code",
   "execution_count": null,
   "metadata": {},
   "outputs": [],
   "source": [
    "# logE_mids are the same as for effective area binning\n",
    "egrid_true, egrid_reco = np.meshgrid(logE_mids, logE_reco_mids)\n",
    "\n",
    "f, axes = plt.subplots()\n",
    "\n",
    "axes.grid(False)\n",
    "im = axes.pcolormesh(egrid_true, egrid_reco, normed_kvals)\n",
    "axes.set_ylim(np.min(egrid_reco), np.max(egrid_reco))\n",
    "axes.set_xlim(np.min(egrid_true), np.max(egrid_true))\n",
    "axes.set_title(\"Original energy resolution\")\n",
    "axes.set_ylabel(r\"$\\log_{10}$ ($E_{\\rm reco}$ / GeV) (muon energy)\")\n",
    "axes.set_xlabel(r\"$\\log_{10}$ ($E_{\\rm true}$ / GeV) (neutrino energy)\")\n",
    "cb = f.colorbar(im)\n",
    "cb.set_label(\"P(E_reco | E_true)\")\n",
    "f.tight_layout()"
   ]
  },
  {
   "cell_type": "markdown",
   "metadata": {},
   "source": [
    "# Source flux definition"
   ]
  },
  {
   "cell_type": "code",
   "execution_count": null,
   "metadata": {},
   "outputs": [],
   "source": [
    "def astro_flux(\n",
    "    aeff_factor,\n",
    "    emids,\n",
    "    E0,\n",
    "    gamma,\n",
    "    phi_scaling,\n",
    "):\n",
    "    \"\"\"\n",
    "    flux shape: dphi/dE = phi_0 * (E/E0) ** -gamma\n",
    "    powerlaw parameters:\n",
    "        * gamma\n",
    "        * phi scaling (phi normalization will be phi_0 * phi scaling) \n",
    "          -> actual fit parameter will be of magnitude 1 instead of E-14\n",
    "    \"\"\"\n",
    "    tmp = aeff_factor * (emids/E0)**(-gamma) * PHI_0 * phi_scaling\n",
    "    return energy_smearing(normed_kvals, tmp)"
   ]
  },
  {
   "cell_type": "markdown",
   "metadata": {},
   "source": [
    "# calculate number of events per source as crosscheck\n",
    "\n",
    "(should be 39.6 events in total)"
   ]
  },
  {
   "cell_type": "code",
   "execution_count": null,
   "metadata": {},
   "outputs": [],
   "source": [
    "aeff_factor_signal = (\n",
    "    array_source_interp(SRC_DEC, aeff_2d) * LIVETIME * ewidth\n",
    ")\n",
    "# this is only 1D in energy dimension\n",
    "k_s = astro_flux(\n",
    "    aeff_factor_signal,\n",
    "    emids,\n",
    "    E0,\n",
    "    GAMMA,\n",
    "    1,\n",
    ")\n",
    "print(np.sum(k_s))\n"
   ]
  },
  {
   "cell_type": "markdown",
   "metadata": {},
   "source": [
    "# Psi-Energy histogram\n",
    "\n",
    "Going 2D now with angular distance 'Psi'"
   ]
  },
  {
   "cell_type": "code",
   "execution_count": null,
   "metadata": {},
   "outputs": [],
   "source": [
    "print(k_s.shape)"
   ]
  },
  {
   "cell_type": "code",
   "execution_count": null,
   "metadata": {},
   "outputs": [],
   "source": [
    "delta_psi = 2\n",
    "psi2_bins = np.linspace(0, delta_psi**2, delta_psi**2 * 25 + 1)"
   ]
  },
  {
   "cell_type": "code",
   "execution_count": null,
   "metadata": {},
   "outputs": [],
   "source": [
    "###Left alone as default??"
   ]
  },
  {
   "cell_type": "code",
   "execution_count": null,
   "metadata": {},
   "outputs": [],
   "source": [
    "with open(\"/home/steve/pone/Plenum//resources/e_psi_grid.pickle\", \"rb\") as f:\n",
    "    # 2D histogram in log(E) and psi²\n",
    "    e_psi2_grid = pickle.load(f)\n",
    "# cut to right size in energy\n",
    "e_psi2_grid = e_psi2_grid[:, :len(logE_mids)]"
   ]
  },
  {
   "cell_type": "code",
   "execution_count": null,
   "metadata": {},
   "outputs": [],
   "source": [
    "e_psi2_grid.shape"
   ]
  },
  {
   "cell_type": "code",
   "execution_count": null,
   "metadata": {},
   "outputs": [],
   "source": [
    "e_psi2_grid[:, :]"
   ]
  },
  {
   "cell_type": "code",
   "execution_count": null,
   "metadata": {},
   "outputs": [],
   "source": [
    "e_psi2_grid[: , :40].shape\n"
   ]
  },
  {
   "cell_type": "code",
   "execution_count": null,
   "metadata": {},
   "outputs": [],
   "source": [
    "# Background is uniform in psi²\n",
    "# so we generate a matching uniform histogram here\n",
    "bckg_grid = np.ones_like(e_psi2_grid)\n",
    "bckg_grid /= np.sum(bckg_grid, axis=0)\n"
   ]
  },
  {
   "cell_type": "code",
   "execution_count": null,
   "metadata": {},
   "outputs": [],
   "source": [
    "len(logE_mids)"
   ]
  },
  {
   "cell_type": "code",
   "execution_count": null,
   "metadata": {},
   "outputs": [],
   "source": [
    "len(psi2_bins)"
   ]
  },
  {
   "cell_type": "markdown",
   "metadata": {},
   "source": [
    "### Full nominal (=Asimov) histograms in Psi - log(E)\n",
    "\n",
    "Fit parameters for analysis:\n",
    "* Global normalization of k_b\n",
    "* Global normalization of k_s\n",
    "* Spectral index of k_s (=gamma)"
   ]
  },
  {
   "cell_type": "code",
   "execution_count": null,
   "metadata": {},
   "outputs": [],
   "source": [
    "aeff_factor_bckg = (\n",
    "    array_source_interp(SRC_DEC, aeff_2d)\n",
    "    * LIVETIME\n",
    "    * ewidth\n",
    "    * (np.deg2rad(delta_psi) ** 2)\n",
    "    * np.pi  # solid angle approx.\n",
    ") * bckg_grid * 1 ## nominal value, FIT PARAMETER\n",
    "\n",
    "aeff_factor_signal = (\n",
    "    array_source_interp(SRC_DEC, aeff_2d)* LIVETIME * ewidth * e_psi2_grid\n",
    ")\n",
    "# model expectation before adding fit parameters\n",
    "mu_b_base = deepcopy(aeff_factor_bckg)\n",
    "mu_s_base = deepcopy(aeff_factor_signal)\n",
    "\n",
    "# asimov data\n",
    "k_b = atmo_background(aeff_factor_bckg, array_source_interp(SRC_DEC, bckg_flux_vals.T).T)\n",
    "k_s = astro_flux(\n",
    "    aeff_factor_signal,\n",
    "    emids,\n",
    "    E0,\n",
    "    GAMMA, ## FIT PARAMETER\n",
    "    1, ## FIT PARAMETER\n",
    ")\n",
    "k_i = k_s + k_b\n",
    "\n",
    "print(\"Asimov data sum:\")\n",
    "print(\"Background:\", np.sum(k_b)) # ~550\n",
    "print(\"Signal:\", np.sum(k_s)) # ~40\n",
    "print(\"S+B\", np.sum(k_i)) # ~590\n",
    "\n",
    "\n"
   ]
  },
  {
   "cell_type": "markdown",
   "metadata": {},
   "source": [
    "## some plotting"
   ]
  },
  {
   "cell_type": "code",
   "execution_count": null,
   "metadata": {},
   "outputs": [],
   "source": [
    "print(k_s.shape)\n",
    "print(k_b.shape)"
   ]
  },
  {
   "cell_type": "code",
   "execution_count": null,
   "metadata": {},
   "outputs": [],
   "source": [
    "delta_psi = 2\n",
    "psi2_bins = np.linspace(0, delta_psi**2, delta_psi**2 * 25 + 1)"
   ]
  },
  {
   "cell_type": "code",
   "execution_count": null,
   "metadata": {},
   "outputs": [],
   "source": [
    "plt.pcolormesh(logE_reco_bins, psi2_bins, k_s)\n",
    "plt.ylabel(\"(Psi/deg)²\")\n",
    "plt.xlabel(\"log10(E_reco/GeV)\")\n",
    "plt.title(\"Signal point-source flux\")"
   ]
  },
  {
   "cell_type": "code",
   "execution_count": null,
   "metadata": {},
   "outputs": [],
   "source": [
    "plt.pcolormesh(logE_reco_bins, psi2_bins, k_b)\n",
    "plt.ylabel(\"(Psi/deg)²\")\n",
    "plt.xlabel(\"log10(E_reco/GeV)\")\n",
    "plt.title(\"Background atmospheric flux\")"
   ]
  },
  {
   "cell_type": "code",
   "execution_count": null,
   "metadata": {},
   "outputs": [],
   "source": [
    "# summed 1D hist in psi²\n",
    "plt.plot(get_mids(psi2_bins), k_s.sum(axis=1), ds=\"steps-mid\", label=\"signal\")\n",
    "plt.plot(get_mids(psi2_bins), k_b.sum(axis=1), ds=\"steps-mid\", label=\"bckg\")\n",
    "plt.plot(get_mids(psi2_bins), k_i.sum(axis=1), ds=\"steps-mid\", label=\"sum\")\n",
    "plt.ylim(0, 14)\n",
    "plt.xlim(0, 4)\n",
    "plt.xlabel(\"(Psi/deg)²\")\n",
    "plt.ylabel(\"# events\")\n",
    "plt.legend()"
   ]
  },
  {
   "cell_type": "code",
   "execution_count": null,
   "metadata": {},
   "outputs": [],
   "source": [
    "plt.plot(logE_reco_mids, k_s.sum(axis=0), ds=\"steps-mid\", label=\"signal\")\n",
    "plt.plot(logE_reco_mids, k_b.sum(axis=0), ds=\"steps-mid\", label=\"bckg\")\n",
    "plt.plot(logE_reco_mids, k_i.sum(axis=0), ds=\"steps-mid\", label=\"sum\")\n",
    "plt.yscale(\"log\")\n",
    "plt.xlim(2, 7)\n",
    "plt.ylim(1E-2, 2E2)\n",
    "plt.ylabel(\"#events per bin in log(E_reco)\")\n",
    "plt.xlabel(\"log10(E_reco/GeV)\")\n",
    "plt.legend()"
   ]
  },
  {
   "cell_type": "markdown",
   "metadata": {},
   "source": [
    "### DEMO: Significance test Background vs. Background + Signal"
   ]
  },
  {
   "cell_type": "code",
   "execution_count": null,
   "metadata": {},
   "outputs": [],
   "source": [
    "def ps_llh_2d_composite(\n",
    "    x,\n",
    "    mu_b_base,\n",
    "    mu_s_base,\n",
    "    k_i,\n",
    "    e_0=E0,\n",
    "):\n",
    "    \"\"\"fit parameters in x:\n",
    "    for the standard power law:\n",
    "    x[0]: background normalization scaling\n",
    "    x[1]: signal spectral index\n",
    "    x[2]: signal normalization scaling\n",
    "\n",
    "    mu_b_base: effective area factor for background\n",
    "    mu_s_base: effective area factor for signal\n",
    "    k_i: observation/asimov data\n",
    "    e_norm: normalization energy, default E0_NGC\n",
    "    phi_0: normalization flux, default PHI_NGC\n",
    "    \"\"\"\n",
    "\n",
    "    mu_b = atmo_background(\n",
    "        mu_b_base * x[0], array_source_interp(SRC_DEC, bckg_flux_vals.T).T\n",
    "    )\n",
    "    mu_s = astro_flux(\n",
    "        mu_s_base, emids, e_0, *x[1:]\n",
    "    )\n",
    "    mu_i = mu_s + mu_b\n",
    "    # -2 Log Likelihood (B/S)\n",
    "    return -2 * np.sum(\n",
    "        np.where(\n",
    "            np.logical_and(mu_i > 0, k_i > 0),\n",
    "            k_i * np.log(mu_i)\n",
    "            - mu_i\n",
    "            - 0.5 * np.log(2 * np.pi * k_i)\n",
    "            + k_i\n",
    "            - k_i * np.log(k_i),\n",
    "            0,\n",
    "        )\n",
    "    )\n",
    " "
   ]
  },
  {
   "cell_type": "code",
   "execution_count": null,
   "metadata": {},
   "outputs": [],
   "source": [
    "# define the fitting functions with all parameters\n",
    "# background only, 1 free parameter\n",
    "local_llh = lambda x: ps_llh_2d_composite(\n",
    "    (x[0], 2, 0), mu_b_base, mu_s_base, k_i\n",
    ")\n",
    "# background + signal, 3 free parameters\n",
    "global_llh = lambda x: ps_llh_2d_composite(\n",
    "    x, mu_b_base, mu_s_base, k_i\n",
    ")\n",
    "# ... and fit both hypotheses!\n",
    "out_bckg = fmin_l_bfgs_b(\n",
    "    local_llh,\n",
    "    x0=(1.2,),\n",
    "    approx_grad=True,\n",
    ")\n",
    "print(\"Bckg-only normalization:\", out_bckg[0])\n",
    "\n",
    "out_comp = fmin_l_bfgs_b(\n",
    "    global_llh,\n",
    "    x0=(1.2, 3.0, 1.2),\n",
    "    approx_grad=True,\n",
    ")\n",
    "print(\"Signal fit parameters:\", out_comp[0])\n",
    "\n",
    "# calculate p-value and significance with Wilks' and 2 d.o.f\n",
    "pval = chi2.sf(out_bckg[1] - out_comp[1], 2)\n",
    "\n",
    "significance = erfinv(1 - pval) * np.sqrt(2)\n",
    "print(\"P-VALUE:\", pval, \"SIGNIFICANCE:\", significance)\n"
   ]
  },
  {
   "cell_type": "code",
   "execution_count": null,
   "metadata": {},
   "outputs": [],
   "source": []
  },
  {
   "cell_type": "code",
   "execution_count": null,
   "metadata": {},
   "outputs": [],
   "source": []
  },
  {
   "cell_type": "code",
   "execution_count": null,
   "metadata": {},
   "outputs": [],
   "source": []
  },
  {
   "cell_type": "code",
   "execution_count": null,
   "metadata": {},
   "outputs": [],
   "source": []
  }
 ],
 "metadata": {
  "kernelspec": {
   "display_name": "Python 3 (ipykernel)",
   "language": "python",
   "name": "python3"
  },
  "language_info": {
   "codemirror_mode": {
    "name": "ipython",
    "version": 3
   },
   "file_extension": ".py",
   "mimetype": "text/x-python",
   "name": "python",
   "nbconvert_exporter": "python",
   "pygments_lexer": "ipython3",
   "version": "3.10.6"
  }
 },
 "nbformat": 4,
 "nbformat_minor": 4
}

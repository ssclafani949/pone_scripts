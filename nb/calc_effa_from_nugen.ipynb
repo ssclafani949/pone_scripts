{
 "cells": [
  {
   "cell_type": "code",
   "execution_count": 146,
   "id": "71b614c5",
   "metadata": {},
   "outputs": [],
   "source": [
    "%matplotlib inline\n",
    "import matplotlib.pyplot as plt\n",
    "import tables\n",
    "import pandas as pd\n",
    "import numpy as np\n",
    "from toolz import memoize\n",
    "from toise import plotting, surfaces, util, effective_areas, angular_resolution\n",
    "import matplotlib as mpl\n",
    "import photospline\n",
    "from scipy import optimize\n",
    "'''from autograd.misc.flatten import flatten_func\n",
    "import autograd\n",
    "import autograd.numpy as n'''\n",
    "import os\n",
    "import histlite \n",
    "import nuflux\n",
    "import tables\n",
    "import histlite as hl\n",
    "#import warnings\n",
    "#warnings.filterwarnings(\"ignore\") # turn off warnings"
   ]
  },
  {
   "cell_type": "code",
   "execution_count": 147,
   "id": "670bc94b",
   "metadata": {},
   "outputs": [],
   "source": [
    "import astropy\n",
    "import astropy.units as u\n",
    "from astropy.time import Time\n",
    "from astropy.coordinates import EarthLocation, AltAz"
   ]
  },
  {
   "cell_type": "code",
   "execution_count": 148,
   "id": "21a1800f",
   "metadata": {},
   "outputs": [],
   "source": [
    "mpl.rcParams['grid.linestyle'] = ':'\n",
    "mpl.rcParams['lines.linewidth'] = 2\n",
    "mpl.rcParams['figure.facecolor'] = mpl.rcParams['savefig.facecolor'] = 'w'\n",
    "mpl.rcParams['legend.framealpha'] = 1\n",
    "mpl.rc('font', size=12)"
   ]
  },
  {
   "cell_type": "code",
   "execution_count": 149,
   "id": "997bf08a",
   "metadata": {},
   "outputs": [],
   "source": [
    "#base_dir = '/home/steve/pone/data/'\n",
    "base_dir = '/home/ssclafani/data/'"
   ]
  },
  {
   "cell_type": "code",
   "execution_count": 150,
   "id": "4ef0b71e",
   "metadata": {},
   "outputs": [],
   "source": [
    "f = tables.open_file(base_dir + 'Nugen_70_daq.hdf5')"
   ]
  },
  {
   "cell_type": "code",
   "execution_count": 151,
   "id": "9ae0173f",
   "metadata": {},
   "outputs": [
    {
     "data": {
      "text/plain": [
       "16440"
      ]
     },
     "execution_count": 151,
     "metadata": {},
     "output_type": "execute_result"
    }
   ],
   "source": [
    "len(f.root.I3EventHeader.cols.Event[:])"
   ]
  },
  {
   "cell_type": "code",
   "execution_count": 152,
   "id": "b3120804",
   "metadata": {},
   "outputs": [],
   "source": [
    "#len(f.root.I3EventHeader.cols.Event[:]) / 352."
   ]
  },
  {
   "cell_type": "code",
   "execution_count": 153,
   "id": "badbf002",
   "metadata": {},
   "outputs": [
    {
     "data": {
      "text/plain": [
       "\"fig, axs = plt.subplots(2,2, figsize=(9,9))\\nf = tables.open_file(base_dir + '3_no_reco.hdf5')\\nax = axs[0][0]\\nax.hist(f.root.I3EventHeader.cols.Event[:]);\\nax.set_title('3 String with NO RECO')\\nax.set_xlabel('Event Number in File')\\n\\nf = tables.open_file(base_dir + '70_no_reco.hdf5')\\nax = axs[0][1]\\nax.hist(f.root.I3EventHeader.cols.Event[:]);\\nax.set_title('3 String with NO RECO')\\nax.set_xlabel('Event Number in File')\\n\\nf = tables.open_file(base_dir + '3_reco.hdf5')\\nax = axs[1][0]\\nax.hist(f.root.I3EventHeader.cols.Event[:]);\\nax.set_title('3 String with RECO')\\nax.set_xlabel('Event Number in File')\\n\\nf = tables.open_file(base_dir + '70_reco.hdf5')\\nax = axs[1][1]\\nax.hist(f.root.I3EventHeader.cols.Event[:]);\\nax.set_title('70 String with RECO')\\nax.set_xlabel('Event Number in File')\\n\\nplt.tight_layout()\""
      ]
     },
     "execution_count": 153,
     "metadata": {},
     "output_type": "execute_result"
    }
   ],
   "source": [
    "'''fig, axs = plt.subplots(2,2, figsize=(9,9))\n",
    "f = tables.open_file(base_dir + '3_no_reco.hdf5')\n",
    "ax = axs[0][0]\n",
    "ax.hist(f.root.I3EventHeader.cols.Event[:]);\n",
    "ax.set_title('3 String with NO RECO')\n",
    "ax.set_xlabel('Event Number in File')\n",
    "\n",
    "f = tables.open_file(base_dir + '70_no_reco.hdf5')\n",
    "ax = axs[0][1]\n",
    "ax.hist(f.root.I3EventHeader.cols.Event[:]);\n",
    "ax.set_title('3 String with NO RECO')\n",
    "ax.set_xlabel('Event Number in File')\n",
    "\n",
    "f = tables.open_file(base_dir + '3_reco.hdf5')\n",
    "ax = axs[1][0]\n",
    "ax.hist(f.root.I3EventHeader.cols.Event[:]);\n",
    "ax.set_title('3 String with RECO')\n",
    "ax.set_xlabel('Event Number in File')\n",
    "\n",
    "f = tables.open_file(base_dir + '70_reco.hdf5')\n",
    "ax = axs[1][1]\n",
    "ax.hist(f.root.I3EventHeader.cols.Event[:]);\n",
    "ax.set_title('70 String with RECO')\n",
    "ax.set_xlabel('Event Number in File')\n",
    "\n",
    "plt.tight_layout()'''"
   ]
  },
  {
   "cell_type": "code",
   "execution_count": 154,
   "id": "e2d2dd02",
   "metadata": {},
   "outputs": [],
   "source": [
    "#f.root.I3MCWeightDict.cols.OneWeight"
   ]
  },
  {
   "cell_type": "code",
   "execution_count": 155,
   "id": "7cda4a0d",
   "metadata": {},
   "outputs": [],
   "source": [
    "def rotate_event(azimuth, zenith):\n",
    "    PONE = {\n",
    "        \"lon\": -123.3656 * u.deg,\n",
    "        \"lat\":48.4284 * u.deg} #48.4284 * u.deg}\n",
    "    loc = EarthLocation(lon= PONE['lon'], lat= PONE['lat'])\n",
    "    times = np.random.uniform(size=len(azimuth), low=53005, high=53371)\n",
    "    t = Time(times, format='mjd')\n",
    "    coords = astropy.coordinates.AltAz(az=azimuth*u.rad, alt=(np.pi/2 - zenith)*u.rad, \n",
    "                                   obstime = t, location=loc)\n",
    "    \n",
    "\n",
    "    eq = astropy.coordinates.SkyCoord(coords)\n",
    "    ra = eq.icrs.ra.rad\n",
    "    dec = eq.icrs.dec.rad\n",
    "    return ra, dec\n"
   ]
  },
  {
   "cell_type": "code",
   "execution_count": 156,
   "id": "7afa2361",
   "metadata": {},
   "outputs": [],
   "source": [
    "def make_array_nugen(string, reco=False, nfiles=1000, nevents=100):\n",
    "\n",
    "    f = tables.open_file(base_dir + 'Nugen_{}_daq.hdf5'.format(string))\n",
    "    \n",
    "    \n",
    "    event = f.root.I3EventHeader.cols.Event[:]\n",
    "    true_zenith = f.root.NuGPrimary.cols.zenith[:]\n",
    "    true_azimuth = f.root.NuGPrimary.cols.azimuth[:]\n",
    "    true_energy = f.root.NuGPrimary.cols.energy[:]\n",
    "    oneweight = f.root.I3MCWeightDict.cols.OneWeight[:]\n",
    "    ow = oneweight / (nfiles * nevents)\n",
    "    true_ra, true_dec = rotate_event(true_azimuth, true_zenith)  \n",
    "    w_astro = 1e-18 *ow *(true_energy/1e5)**-2\n",
    "    w_atmo = 1e-18 *ow *(true_energy/1e5)**-3.7\n",
    "    flux = nuflux.makeFlux('H3a_SIBYLL23C')\n",
    "    nu_type=nuflux.NuMu\n",
    "    nu_energy=true_energy # in GeV\n",
    "    nu_cos_zenith = np.cos(true_zenith)\n",
    "    w_h3a =2*ow* flux.getFlux(nu_type,nu_energy,nu_cos_zenith)\n",
    "\n",
    "  \n",
    "    array = np.vstack([event, true_zenith, true_azimuth,true_ra, true_dec, true_energy, ow, w_astro, w_atmo, w_h3a])\n",
    "    df = pd.DataFrame(array.T, \n",
    "                      columns=['event' , 'true_zenith', 'true_azimuth', 'true_ra', 'true_dec', 'true_energy',  'ow', \n",
    "                               'w_astro','w_atmo', 'w_h3a'])\n",
    "    return df"
   ]
  },
  {
   "cell_type": "code",
   "execution_count": 157,
   "id": "fdb47602",
   "metadata": {},
   "outputs": [],
   "source": [
    "mc = {}\n",
    "strings = [10, 70]\n",
    "nfiles = [1000,1000]\n",
    "nevents = [100, 100]\n",
    "for i, string in enumerate(strings):\n",
    "    mc[string] = make_array_nugen(string, reco=False, nfiles=nfiles[i], nevents=nevents[i])"
   ]
  },
  {
   "cell_type": "code",
   "execution_count": 158,
   "id": "59776931",
   "metadata": {},
   "outputs": [
    {
     "name": "stdout",
     "output_type": "stream",
     "text": [
      "----------\n",
      "10 String : 1.8e-07 Hz, Astro Events / year: 5.69\n",
      "10 String : 0.00012 Hz, Atmo Events (E^-3.7)/ year: 3.84e+03\n",
      "10 String : 0.00013 Hz, Atmo Events H3a / year: 4.23e+03\n",
      " \n",
      "----------\n",
      "70 String : 1.6e-06 Hz, Astro Events / year: 51.1\n",
      "70 String : 0.00085 Hz, Atmo Events (E^-3.7)/ year: 2.67e+04\n",
      "70 String : 0.0011 Hz, Atmo Events H3a / year: 3.33e+04\n",
      " \n"
     ]
    }
   ],
   "source": [
    "#rates\n",
    "for string in [10, 70]:\n",
    "    print('----------')\n",
    "    print('{} String : {:.2} Hz, Astro Events / year: {:.3}'.format(string, sum(mc[string].w_astro), \n",
    "                                                                     sum(mc[string].w_astro) * 1 * 365 * 86400))\n",
    "    print('{} String : {:.2} Hz, Atmo Events (E^-3.7)/ year: {:.3}'.format(string, sum(mc[string].w_atmo), sum(mc[string].w_atmo) * 1 * 365 * 86400))\n",
    "    print('{} String : {:.2} Hz, Atmo Events H3a / year: {:.3}'.format(string, sum(mc[string].w_h3a), \n",
    "                                                                        sum(mc[string].w_h3a) * 1 * 365 * 86400))\n",
    "\n",
    "    print(' ')"
   ]
  },
  {
   "cell_type": "code",
   "execution_count": 159,
   "id": "694b7bd2",
   "metadata": {},
   "outputs": [
    {
     "data": {
      "text/html": [
       "<div>\n",
       "<style scoped>\n",
       "    .dataframe tbody tr th:only-of-type {\n",
       "        vertical-align: middle;\n",
       "    }\n",
       "\n",
       "    .dataframe tbody tr th {\n",
       "        vertical-align: top;\n",
       "    }\n",
       "\n",
       "    .dataframe thead th {\n",
       "        text-align: right;\n",
       "    }\n",
       "</style>\n",
       "<table border=\"1\" class=\"dataframe\">\n",
       "  <thead>\n",
       "    <tr style=\"text-align: right;\">\n",
       "      <th></th>\n",
       "      <th>event</th>\n",
       "      <th>true_zenith</th>\n",
       "      <th>true_azimuth</th>\n",
       "      <th>true_ra</th>\n",
       "      <th>true_dec</th>\n",
       "      <th>true_energy</th>\n",
       "      <th>ow</th>\n",
       "      <th>w_astro</th>\n",
       "      <th>w_atmo</th>\n",
       "      <th>w_h3a</th>\n",
       "    </tr>\n",
       "  </thead>\n",
       "  <tbody>\n",
       "    <tr>\n",
       "      <th>0</th>\n",
       "      <td>11.0</td>\n",
       "      <td>0.415700</td>\n",
       "      <td>1.278811</td>\n",
       "      <td>0.595150</td>\n",
       "      <td>0.865312</td>\n",
       "      <td>9.724313e+06</td>\n",
       "      <td>3.440733e+10</td>\n",
       "      <td>3.638589e-12</td>\n",
       "      <td>1.519053e-15</td>\n",
       "      <td>3.971925e-15</td>\n",
       "    </tr>\n",
       "    <tr>\n",
       "      <th>1</th>\n",
       "      <td>22.0</td>\n",
       "      <td>1.201836</td>\n",
       "      <td>0.900556</td>\n",
       "      <td>0.013913</td>\n",
       "      <td>0.712864</td>\n",
       "      <td>1.032303e+06</td>\n",
       "      <td>7.304058e+09</td>\n",
       "      <td>6.854094e-11</td>\n",
       "      <td>1.295621e-12</td>\n",
       "      <td>3.541336e-12</td>\n",
       "    </tr>\n",
       "    <tr>\n",
       "      <th>2</th>\n",
       "      <td>25.0</td>\n",
       "      <td>1.743233</td>\n",
       "      <td>1.926361</td>\n",
       "      <td>4.517793</td>\n",
       "      <td>-0.363797</td>\n",
       "      <td>1.539020e+05</td>\n",
       "      <td>1.549120e+09</td>\n",
       "      <td>6.540284e-10</td>\n",
       "      <td>3.142543e-10</td>\n",
       "      <td>2.465020e-09</td>\n",
       "    </tr>\n",
       "    <tr>\n",
       "      <th>3</th>\n",
       "      <td>34.0</td>\n",
       "      <td>0.327752</td>\n",
       "      <td>4.927663</td>\n",
       "      <td>5.844153</td>\n",
       "      <td>0.853581</td>\n",
       "      <td>6.555674e+05</td>\n",
       "      <td>4.840500e+08</td>\n",
       "      <td>1.126304e-11</td>\n",
       "      <td>4.606871e-13</td>\n",
       "      <td>7.889010e-13</td>\n",
       "    </tr>\n",
       "    <tr>\n",
       "      <th>4</th>\n",
       "      <td>40.0</td>\n",
       "      <td>0.055238</td>\n",
       "      <td>4.197920</td>\n",
       "      <td>1.258331</td>\n",
       "      <td>0.816655</td>\n",
       "      <td>3.058710e+05</td>\n",
       "      <td>1.504935e+07</td>\n",
       "      <td>1.608575e-12</td>\n",
       "      <td>2.404508e-13</td>\n",
       "      <td>4.488323e-13</td>\n",
       "    </tr>\n",
       "    <tr>\n",
       "      <th>...</th>\n",
       "      <td>...</td>\n",
       "      <td>...</td>\n",
       "      <td>...</td>\n",
       "      <td>...</td>\n",
       "      <td>...</td>\n",
       "      <td>...</td>\n",
       "      <td>...</td>\n",
       "      <td>...</td>\n",
       "      <td>...</td>\n",
       "      <td>...</td>\n",
       "    </tr>\n",
       "    <tr>\n",
       "      <th>16435</th>\n",
       "      <td>80.0</td>\n",
       "      <td>0.532145</td>\n",
       "      <td>5.705308</td>\n",
       "      <td>0.962843</td>\n",
       "      <td>1.185148</td>\n",
       "      <td>9.264227e+03</td>\n",
       "      <td>6.879710e+05</td>\n",
       "      <td>8.015891e-11</td>\n",
       "      <td>4.574844e-09</td>\n",
       "      <td>9.768758e-09</td>\n",
       "    </tr>\n",
       "    <tr>\n",
       "      <th>16436</th>\n",
       "      <td>88.0</td>\n",
       "      <td>0.238347</td>\n",
       "      <td>1.906299</td>\n",
       "      <td>4.708876</td>\n",
       "      <td>0.741517</td>\n",
       "      <td>5.710755e+04</td>\n",
       "      <td>8.183784e+06</td>\n",
       "      <td>2.509384e-11</td>\n",
       "      <td>6.504113e-11</td>\n",
       "      <td>1.365551e-10</td>\n",
       "    </tr>\n",
       "    <tr>\n",
       "      <th>16437</th>\n",
       "      <td>90.0</td>\n",
       "      <td>1.325054</td>\n",
       "      <td>4.095219</td>\n",
       "      <td>3.765703</td>\n",
       "      <td>-0.191278</td>\n",
       "      <td>6.897265e+06</td>\n",
       "      <td>1.745167e+11</td>\n",
       "      <td>3.668454e-11</td>\n",
       "      <td>2.746201e-14</td>\n",
       "      <td>8.315763e-14</td>\n",
       "    </tr>\n",
       "    <tr>\n",
       "      <th>16438</th>\n",
       "      <td>92.0</td>\n",
       "      <td>0.385744</td>\n",
       "      <td>2.602681</td>\n",
       "      <td>3.142291</td>\n",
       "      <td>0.499796</td>\n",
       "      <td>6.125780e+05</td>\n",
       "      <td>5.397898e+08</td>\n",
       "      <td>1.438473e-11</td>\n",
       "      <td>6.602789e-13</td>\n",
       "      <td>1.141265e-12</td>\n",
       "    </tr>\n",
       "    <tr>\n",
       "      <th>16439</th>\n",
       "      <td>93.0</td>\n",
       "      <td>2.625316</td>\n",
       "      <td>3.597809</td>\n",
       "      <td>1.278538</td>\n",
       "      <td>-1.236689</td>\n",
       "      <td>2.603881e+04</td>\n",
       "      <td>2.976521e+07</td>\n",
       "      <td>4.390020e-10</td>\n",
       "      <td>4.324247e-09</td>\n",
       "      <td>9.715636e-09</td>\n",
       "    </tr>\n",
       "  </tbody>\n",
       "</table>\n",
       "<p>16440 rows × 10 columns</p>\n",
       "</div>"
      ],
      "text/plain": [
       "       event  true_zenith  true_azimuth   true_ra  true_dec   true_energy  \\\n",
       "0       11.0     0.415700      1.278811  0.595150  0.865312  9.724313e+06   \n",
       "1       22.0     1.201836      0.900556  0.013913  0.712864  1.032303e+06   \n",
       "2       25.0     1.743233      1.926361  4.517793 -0.363797  1.539020e+05   \n",
       "3       34.0     0.327752      4.927663  5.844153  0.853581  6.555674e+05   \n",
       "4       40.0     0.055238      4.197920  1.258331  0.816655  3.058710e+05   \n",
       "...      ...          ...           ...       ...       ...           ...   \n",
       "16435   80.0     0.532145      5.705308  0.962843  1.185148  9.264227e+03   \n",
       "16436   88.0     0.238347      1.906299  4.708876  0.741517  5.710755e+04   \n",
       "16437   90.0     1.325054      4.095219  3.765703 -0.191278  6.897265e+06   \n",
       "16438   92.0     0.385744      2.602681  3.142291  0.499796  6.125780e+05   \n",
       "16439   93.0     2.625316      3.597809  1.278538 -1.236689  2.603881e+04   \n",
       "\n",
       "                 ow       w_astro        w_atmo         w_h3a  \n",
       "0      3.440733e+10  3.638589e-12  1.519053e-15  3.971925e-15  \n",
       "1      7.304058e+09  6.854094e-11  1.295621e-12  3.541336e-12  \n",
       "2      1.549120e+09  6.540284e-10  3.142543e-10  2.465020e-09  \n",
       "3      4.840500e+08  1.126304e-11  4.606871e-13  7.889010e-13  \n",
       "4      1.504935e+07  1.608575e-12  2.404508e-13  4.488323e-13  \n",
       "...             ...           ...           ...           ...  \n",
       "16435  6.879710e+05  8.015891e-11  4.574844e-09  9.768758e-09  \n",
       "16436  8.183784e+06  2.509384e-11  6.504113e-11  1.365551e-10  \n",
       "16437  1.745167e+11  3.668454e-11  2.746201e-14  8.315763e-14  \n",
       "16438  5.397898e+08  1.438473e-11  6.602789e-13  1.141265e-12  \n",
       "16439  2.976521e+07  4.390020e-10  4.324247e-09  9.715636e-09  \n",
       "\n",
       "[16440 rows x 10 columns]"
      ]
     },
     "execution_count": 159,
     "metadata": {},
     "output_type": "execute_result"
    }
   ],
   "source": [
    "mc[70]"
   ]
  },
  {
   "cell_type": "code",
   "execution_count": 160,
   "id": "d604b73e",
   "metadata": {},
   "outputs": [],
   "source": [
    "#aeffs is area_weight in units of GeV m^2 sr similar to oneweight \n",
    "# but oneweight is in terms of cm^2"
   ]
  },
  {
   "cell_type": "code",
   "execution_count": 161,
   "id": "b365f29a",
   "metadata": {},
   "outputs": [],
   "source": [
    "def effa_plot_notlogged(ax, mc_dict, string=70, zen_deg_min = 0, zen_deg_max = 180, \n",
    "                        selection_eff = 1,label = 'MISC', color = 'k', ls = '-'):\n",
    "    a = mc_dict[string]\n",
    "    mask = (a.true_zenith < np.radians(zen_deg_max)) & (a.true_zenith > np.radians(zen_deg_min))\n",
    "    \n",
    "    dlogE=.1\n",
    "    bins = 10**np.arange(2,7.01,dlogE)\n",
    "    solid_angle=4*np.pi #2*np.pi*(np.cos(np.radians(zen_deg_min))) - np.cos(np.radians(zen_deg_max))\n",
    "    area=  (1/(1e4*np.log(10)) * (a.ow[mask] / ( (a.true_energy[mask]) *  solid_angle *  dlogE)))\n",
    "    #(1/1e4*np.log(10)) *\n",
    "    h = hl.hist((a.true_energy[mask]), \n",
    "                #weights=dats.effective_area[mask] / (solid_angle * dlogE), \n",
    "                weights = selection_eff *area,\n",
    "                bins=bins);\n",
    "    hl.plot1d(h, histtype='step', linewidth=2, color=color, label=label, ls = ls, log=True)\n",
    "    ax.loglog()\n",
    "\n",
    "    ax.grid()\n",
    "    #ax.legend(loc='lower right')\n",
    "    ax.set_ylabel('$A_\\mathsf{Eff}$($m^2$)')\n",
    "    ax.set_xlabel('log$_{10}$(E) [1/GeV]')\n",
    "\n",
    "    #ax.set_xlim((10**2,10**7))\n",
    "    #ax.set_ylim((1e-4,1e3))\n",
    "    plt.tight_layout()\n",
    "    return h"
   ]
  },
  {
   "cell_type": "code",
   "execution_count": 162,
   "id": "e29f0eed",
   "metadata": {},
   "outputs": [],
   "source": [
    "#pstracks_hist = np.load('/home/ssclafani//data/pstracks_effa_all.hist.npy', allow_pickle=True)[()]\n",
    "#dnnc_hist = np.load('/home/steve/pone/data/DNNC_effa_all.hist.npy', allow_pickle=True)[()]\n",
    "#pstracks_hist = np.load('/home/steve/pone/data/pstracks_effa_north.hist.npy', allow_pickle=True)[()]"
   ]
  },
  {
   "cell_type": "code",
   "execution_count": 163,
   "id": "45cf13a7",
   "metadata": {},
   "outputs": [],
   "source": [
    "selection_eff = .004/32"
   ]
  },
  {
   "cell_type": "code",
   "execution_count": 164,
   "id": "c47bca8d",
   "metadata": {},
   "outputs": [
    {
     "data": {
      "text/plain": [
       "<matplotlib.legend.Legend at 0x7fd5d4c6b970>"
      ]
     },
     "execution_count": 164,
     "metadata": {},
     "output_type": "execute_result"
    },
    {
     "data": {
      "image/png": "[encoded data removed]",
      "text/plain": [
       "<Figure size 576x432 with 1 Axes>"
      ]
     },
     "metadata": {},
     "output_type": "display_data"
    }
   ],
   "source": [
    "colors = ['C3', 'C1']\n",
    "strings = [70]\n",
    "fig,ax = plt.subplots(figsize=(8,6))\n",
    "\n",
    "effa_plot_notlogged(ax, mc,  string= 70,label='P-ONE 70-string Trigger-NuMu Only', color='C1', ls='-')\n",
    "effa_plot_notlogged(ax, mc,   string = 10, label='P-ONE 10-string Trigger-NuMu Only', color='C2', ls='-')\n",
    "#effa_plot_notlogged(ax, mc,   string = 3, label='P-ONE 3-string Trigger', color='C3', ls='-')\n",
    "\n",
    "#effa_plot_notlogged(ax, mc,selection_eff=selection_eff,  string= 70,label='P-ONE 70-string pstracksEff', color='C1', ls=':')\n",
    "#effa_plot_notlogged(ax, mc, selection_eff=selection_eff,  string = 10, label='P-ONE 10-string pstracksEff', color='C2', ls=\":\")\n",
    "#effa_plot_notlogged(ax, mc,  selection_eff=selection_eff, string = 3, label='P-ONE 3-string pstracksEff', color='C3', ls=':')\n",
    "\n",
    "#hl.plot1d(pstracks_hist, label='PStracks Allsky', c='C5', ls='--')\n",
    "#hl.plot1d(dnnc_hist, label='DNNCascade Allsky', c='C6', ls='--')\n",
    "\n",
    "plt.xlim(500,5e6)\n",
    "#plt.ylim(1e2,1e4)\n",
    "plt.legend(ncol=1)"
   ]
  },
  {
   "cell_type": "code",
   "execution_count": 165,
   "id": "4fc3ee55",
   "metadata": {},
   "outputs": [],
   "source": [
    "#Effective Area / Geometric Area IceCube & Pone"
   ]
  },
  {
   "cell_type": "code",
   "execution_count": 166,
   "id": "a463d95d",
   "metadata": {},
   "outputs": [],
   "source": [
    "#pstracks_mc = np.load('/home/steve/pone/version-004-p00/IC86_2016_MC.npy')"
   ]
  },
  {
   "cell_type": "code",
   "execution_count": 167,
   "id": "0ce80906",
   "metadata": {},
   "outputs": [],
   "source": [
    "#pstracks_mc"
   ]
  },
  {
   "cell_type": "code",
   "execution_count": 168,
   "id": "a3fbcd29",
   "metadata": {},
   "outputs": [
    {
     "data": {
      "text/plain": [
       "\"#pstracks 2d effa\\nd_logE = .2\\nd_zen = 2 * np.pi * np.diff(np.linspace(-1,1,50))[0] \\na = pstracks_mc\\nbins = (np.arange(2,7.01,d_logE), np.linspace(-1,1,50))\\n\\narea = (1/(1e4*np.log(10)) * (a['ow'] / (a['trueE'] * d_zen * d_logE)))\\n#range = [(-1,1), (3,6)]\\nh2d = hl.hist((np.log10(a['trueE']), np.cos(a['trueZen'])),\\n              weights=area,\\n              bins=bins)\\n\""
      ]
     },
     "execution_count": 168,
     "metadata": {},
     "output_type": "execute_result"
    }
   ],
   "source": [
    "'''#pstracks 2d effa\n",
    "d_logE = .2\n",
    "d_zen = 2 * np.pi * np.diff(np.linspace(-1,1,50))[0] \n",
    "a = pstracks_mc\n",
    "bins = (np.arange(2,7.01,d_logE), np.linspace(-1,1,50))\n",
    "\n",
    "area = (1/(1e4*np.log(10)) * (a['ow'] / (a['trueE'] * d_zen * d_logE)))\n",
    "#range = [(-1,1), (3,6)]\n",
    "h2d = hl.hist((np.log10(a['trueE']), np.cos(a['trueZen'])),\n",
    "              weights=area,\n",
    "              bins=bins)\n",
    "'''"
   ]
  },
  {
   "cell_type": "code",
   "execution_count": 169,
   "id": "2f20d085",
   "metadata": {},
   "outputs": [
    {
     "data": {
      "text/plain": [
       "\"fig, ax = plt.subplots()\\nhl.plot2d(ax, h2d, cbar=True, clabel='A$_{eff}$(m$^2$)', log=True, vmin=1e-5, vmax=1e3)\\nax.set_yticks(np.arange(-1,1.01,.25))\\nax.set_ylabel('cos(zenith)')\\nax.set_xlabel('log$_{10}$(E) [1/GeV]')\""
      ]
     },
     "execution_count": 169,
     "metadata": {},
     "output_type": "execute_result"
    }
   ],
   "source": [
    "'''fig, ax = plt.subplots()\n",
    "hl.plot2d(ax, h2d, cbar=True, clabel='A$_{eff}$(m$^2$)', log=True, vmin=1e-5, vmax=1e3)\n",
    "ax.set_yticks(np.arange(-1,1.01,.25))\n",
    "ax.set_ylabel('cos(zenith)')\n",
    "ax.set_xlabel('log$_{10}$(E) [1/GeV]')'''"
   ]
  },
  {
   "cell_type": "code",
   "execution_count": 170,
   "id": "ea1d6492",
   "metadata": {},
   "outputs": [],
   "source": [
    "#np.save('/home/steve/pone/data/pstracks_nu_effa', h2d)\n"
   ]
  },
  {
   "cell_type": "code",
   "execution_count": null,
   "id": "c00a42fd",
   "metadata": {},
   "outputs": [],
   "source": []
  },
  {
   "cell_type": "code",
   "execution_count": 171,
   "id": "50fbd14e",
   "metadata": {},
   "outputs": [
    {
     "data": {
      "text/plain": [
       "0.04081632653061229"
      ]
     },
     "execution_count": 171,
     "metadata": {},
     "output_type": "execute_result"
    }
   ],
   "source": [
    "np.diff(np.linspace(-1,1,50))[0]"
   ]
  },
  {
   "cell_type": "code",
   "execution_count": 172,
   "id": "db3bca68",
   "metadata": {},
   "outputs": [],
   "source": [
    "def effa2d(string, local=False):\n",
    "    d_logE = .2\n",
    "    d_zen = 2 * np.pi * np.diff(np.linspace(-1,1,50))[0] \n",
    "    a = mc[string]\n",
    "    bins = (np.arange(2,7.01,d_logE), np.linspace(-1,1,50))\n",
    "\n",
    "    area = (1/(1e4*np.log(10)) * (a.ow / (a.true_energy * d_zen * d_logE)))\n",
    "    #range = [(-1,1), (3,6)]\n",
    "    if local:\n",
    "        h2d = hl.hist((np.log10(a.true_energy), np.cos(a.true_zenith)),\n",
    "                  weights=area,\n",
    "                  bins=bins)\n",
    "    else:\n",
    "        h2d = hl.hist((np.log10(a.true_energy), np.sin(a.true_dec)),\n",
    "                  weights=area,\n",
    "                  bins=bins)\n",
    "    return h2d"
   ]
  },
  {
   "cell_type": "code",
   "execution_count": 173,
   "id": "ecc95acd",
   "metadata": {},
   "outputs": [
    {
     "data": {
      "image/png": "[encoded data removed]",
      "text/plain": [
       "<Figure size 936x432 with 4 Axes>"
      ]
     },
     "metadata": {},
     "output_type": "display_data"
    }
   ],
   "source": [
    "save =True\n",
    "local = True\n",
    "plt.rc('font', size=12)\n",
    "fig, axs = plt.subplots(1,2, figsize=(13,6))\n",
    "#vmins = [1e2, 5e2, 1e3]\n",
    "#vmaxs=[1e3,5e3,1e4]\n",
    "for i, string in enumerate([10, 70]):\n",
    "    ax = axs[i]\n",
    "    h2d = effa2d(string, local)\n",
    "    if save:\n",
    "        if local:\n",
    "            np.save('../data/PONE_nu_effa_{}_string'.format(string), h2d)\n",
    "        else:\n",
    "            np.save('../data/PONE_nu_effa_{}_string_eq'.format(string), h2d)\n",
    "\n",
    "    #fig, ax = plt.subplots()\n",
    "    hl.plot2d(ax, h2d, cbar=True, clabel='A$_{eff}$(m$^2$)', log=True, vmin=1e-5, vmax=1e3)\n",
    "    ax.set_yticks(np.arange(-1,1.01,.25))\n",
    "    ax.set_ylabel('cos(zenith)')\n",
    "    ax.set_xlabel('log$_{10}$(E) [1/GeV]')\n",
    "    ax.set_title('{} Strings'.format(string))\n",
    "    #ax.set_aspect('equal')\n",
    "plt.tight_layout()"
   ]
  },
  {
   "cell_type": "code",
   "execution_count": 174,
   "id": "d67a12da",
   "metadata": {},
   "outputs": [
    {
     "data": {
      "image/png": "[encoded data removed]",
      "text/plain": [
       "<Figure size 936x432 with 4 Axes>"
      ]
     },
     "metadata": {},
     "output_type": "display_data"
    }
   ],
   "source": [
    "save =True\n",
    "local = False\n",
    "plt.rc('font', size=12)\n",
    "fig, axs = plt.subplots(1,2, figsize=(13,6))\n",
    "#vmins = [1e2, 5e2, 1e3]\n",
    "#vmaxs=[1e3,5e3,1e4]\n",
    "for i, string in enumerate([10, 70]):\n",
    "    ax = axs[i]\n",
    "    h2d = effa2d(string, local)\n",
    "    if save:\n",
    "        if local:\n",
    "            np.save('../data/PONE_nu_effa_{}_string'.format(string), h2d)\n",
    "        else:\n",
    "            np.save('../data/PONE_nu_effa_{}_string_eq'.format(string), h2d)\n",
    "\n",
    "    #fig, ax = plt.subplots()\n",
    "    hl.plot2d(ax, h2d, cbar=True, clabel='A$_{eff}$(m$^2$)', log=True, vmin=1e-5, vmax=1e3)\n",
    "    ax.set_yticks(np.arange(-1,1.01,.25))\n",
    "    ax.set_ylabel('sin(dec)')\n",
    "    ax.set_xlabel('log$_{10}$(E) [1/GeV]')\n",
    "    ax.set_title('{} Strings'.format(string))\n",
    "    #ax.set_aspect('equal')\n",
    "plt.tight_layout()"
   ]
  },
  {
   "cell_type": "code",
   "execution_count": null,
   "id": "bf71b64a",
   "metadata": {},
   "outputs": [],
   "source": []
  },
  {
   "cell_type": "code",
   "execution_count": null,
   "id": "69e68252",
   "metadata": {},
   "outputs": [],
   "source": []
  },
  {
   "cell_type": "code",
   "execution_count": null,
   "id": "9083c8fe",
   "metadata": {},
   "outputs": [],
   "source": []
  },
  {
   "cell_type": "code",
   "execution_count": null,
   "id": "a5cfd8b4",
   "metadata": {},
   "outputs": [],
   "source": []
  }
 ],
 "metadata": {
  "kernelspec": {
   "display_name": "Python 3 (ipykernel)",
   "language": "python",
   "name": "python3"
  },
  "language_info": {
   "codemirror_mode": {
    "name": "ipython",
    "version": 3
   },
   "file_extension": ".py",
   "mimetype": "text/x-python",
   "name": "python",
   "nbconvert_exporter": "python",
   "pygments_lexer": "ipython3",
   "version": "3.9.13"
  }
 },
 "nbformat": 4,
 "nbformat_minor": 5
}
